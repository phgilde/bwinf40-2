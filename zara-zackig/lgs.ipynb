{
 "cells": [
  {
   "cell_type": "code",
   "execution_count": 26,
   "metadata": {},
   "outputs": [],
   "source": [
    "import sys\n",
    "import numpy as np\n",
    "import galois\n",
    "import progressbar"
   ]
  },
  {
   "cell_type": "code",
   "execution_count": 3,
   "metadata": {},
   "outputs": [],
   "source": [
    "with open(\"C:\\\\Users\\\\Philip\\\\Documents\\\\programmieren\\\\python\\\\bwinf40-2\\\\zara-zackig\\\\beispiele\\\\stapel5.txt\") as f:\n",
    "    n_cards, n_opening_cards, n_bits = map(int, f.readline().split())\n",
    "    card_strings = []\n",
    "    while line := f.readline():\n",
    "        card_strings.append(line.strip())\n",
    "cards_bool = [[bit == \"1\" for bit in card] for card in card_strings]\n",
    "cards = np.array(cards_bool).astype(int)\n"
   ]
  },
  {
   "cell_type": "code",
   "execution_count": 4,
   "metadata": {},
   "outputs": [
    {
     "data": {
      "text/plain": [
       "(136, 200)"
      ]
     },
     "execution_count": 4,
     "metadata": {},
     "output_type": "execute_result"
    }
   ],
   "source": [
    "GF2 = galois.GF(2)\n",
    "cards_gf2 = GF2(cards.T)\n",
    "null_space = cards_gf2.null_space()\n",
    "null_space_np = np.array(null_space)\n",
    "null_space.shape"
   ]
  },
  {
   "cell_type": "code",
   "execution_count": 5,
   "metadata": {},
   "outputs": [
    {
     "data": {
      "text/plain": [
       "array([43, 36, 31, 37, 27, 28, 33, 34, 39, 32, 42, 32, 30, 35, 30, 33, 36,\n",
       "       38, 39, 35, 31, 32, 33, 32, 35, 32, 35, 40, 31, 29, 38, 33, 35, 38,\n",
       "       34, 35, 30, 38, 33, 32, 29, 42, 33, 32, 28, 30, 30, 32, 35, 38, 40,\n",
       "       39, 21, 37, 33, 38, 31, 32, 31, 38, 33, 32, 33, 33, 35, 32, 31, 25,\n",
       "       33, 36, 33, 36, 32, 36, 36, 35, 30, 36, 35, 29, 26, 34, 30, 30, 33,\n",
       "       29, 28, 35, 33, 40, 34, 37, 33, 36, 33, 35, 33, 36, 33, 32, 35, 35,\n",
       "       37, 43, 35, 31, 34, 29, 35, 33, 35, 30, 38, 30, 37, 41, 30, 28, 36,\n",
       "       36, 31, 24, 33, 39, 28, 36, 29, 30, 24, 37, 33, 37, 36, 37, 26, 37],\n",
       "      dtype=uint32)"
      ]
     },
     "execution_count": 5,
     "metadata": {},
     "output_type": "execute_result"
    }
   ],
   "source": [
    "np.sum(null_space_np, axis=1)"
   ]
  },
  {
   "cell_type": "code",
   "execution_count": 6,
   "metadata": {},
   "outputs": [
    {
     "data": {
      "text/plain": [
       "136"
      ]
     },
     "execution_count": 6,
     "metadata": {},
     "output_type": "execute_result"
    }
   ],
   "source": [
    "np.linalg.matrix_rank(null_space)"
   ]
  },
  {
   "cell_type": "code",
   "execution_count": 7,
   "metadata": {},
   "outputs": [
    {
     "data": {
      "text/plain": [
       "(199, 200)"
      ]
     },
     "execution_count": 7,
     "metadata": {},
     "output_type": "execute_result"
    }
   ],
   "source": [
    "null_space.T.sum(axis=1).reshape(1, -1).null_space().shape"
   ]
  },
  {
   "cell_type": "code",
   "execution_count": 35,
   "metadata": {},
   "outputs": [
    {
     "name": "stderr",
     "output_type": "stream",
     "text": [
      "  0% (0 of 100) |                        | Elapsed Time: 0:00:00 ETA:  --:--:--\n",
      "  1% (1 of 100) |                        | Elapsed Time: 0:00:01 ETA:   0:02:54\n",
      "  2% (2 of 100) |                        | Elapsed Time: 0:00:03 ETA:   0:02:51\n",
      "  3% (3 of 100) |                        | Elapsed Time: 0:00:05 ETA:   0:02:50\n",
      "  4% (4 of 100) |                        | Elapsed Time: 0:00:07 ETA:   0:02:50\n",
      "  5% (5 of 100) |#                       | Elapsed Time: 0:00:08 ETA:   0:02:47\n",
      "  6% (6 of 100) |#                       | Elapsed Time: 0:00:10 ETA:   0:02:44\n",
      "  7% (7 of 100) |#                       | Elapsed Time: 0:00:12 ETA:   0:02:42\n",
      "  8% (8 of 100) |#                       | Elapsed Time: 0:00:14 ETA:   0:02:40\n",
      "  9% (9 of 100) |##                      | Elapsed Time: 0:00:15 ETA:   0:02:39\n",
      " 10% (10 of 100) |##                     | Elapsed Time: 0:00:17 ETA:   0:02:37\n",
      " 11% (11 of 100) |##                     | Elapsed Time: 0:00:19 ETA:   0:02:35\n",
      " 12% (12 of 100) |##                     | Elapsed Time: 0:00:21 ETA:   0:02:33\n",
      " 13% (13 of 100) |##                     | Elapsed Time: 0:00:22 ETA:   0:02:31\n",
      " 14% (14 of 100) |###                    | Elapsed Time: 0:00:24 ETA:   0:02:29\n",
      " 15% (15 of 100) |###                    | Elapsed Time: 0:00:26 ETA:   0:02:27\n",
      " 16% (16 of 100) |###                    | Elapsed Time: 0:00:27 ETA:   0:02:24\n",
      " 17% (17 of 100) |###                    | Elapsed Time: 0:00:29 ETA:   0:02:22\n",
      " 18% (18 of 100) |####                   | Elapsed Time: 0:00:31 ETA:   0:02:21\n",
      " 19% (19 of 100) |####                   | Elapsed Time: 0:00:33 ETA:   0:02:20\n",
      " 20% (20 of 100) |####                   | Elapsed Time: 0:00:34 ETA:   0:02:17\n",
      " 21% (21 of 100) |####                   | Elapsed Time: 0:00:36 ETA:   0:02:15\n",
      " 22% (22 of 100) |#####                  | Elapsed Time: 0:00:38 ETA:   0:02:14\n",
      " 23% (23 of 100) |#####                  | Elapsed Time: 0:00:40 ETA:   0:02:12\n",
      " 24% (24 of 100) |#####                  | Elapsed Time: 0:00:41 ETA:   0:02:09\n",
      " 25% (25 of 100) |#####                  | Elapsed Time: 0:00:43 ETA:   0:02:07\n",
      " 26% (26 of 100) |#####                  | Elapsed Time: 0:00:45 ETA:   0:02:06\n",
      " 27% (27 of 100) |######                 | Elapsed Time: 0:00:46 ETA:   0:02:04\n",
      " 28% (28 of 100) |######                 | Elapsed Time: 0:00:48 ETA:   0:02:03\n",
      " 29% (29 of 100) |######                 | Elapsed Time: 0:00:50 ETA:   0:02:00\n",
      " 30% (30 of 100) |######                 | Elapsed Time: 0:00:51 ETA:   0:01:59\n",
      " 31% (31 of 100) |#######                | Elapsed Time: 0:00:53 ETA:   0:01:58\n",
      " 32% (32 of 100) |#######                | Elapsed Time: 0:00:55 ETA:   0:01:56\n",
      " 33% (33 of 100) |#######                | Elapsed Time: 0:00:57 ETA:   0:01:53\n",
      " 34% (34 of 100) |#######                | Elapsed Time: 0:00:58 ETA:   0:01:52\n",
      " 35% (35 of 100) |########               | Elapsed Time: 0:01:00 ETA:   0:01:51\n",
      " 36% (36 of 100) |########               | Elapsed Time: 0:01:02 ETA:   0:01:48\n",
      " 37% (37 of 100) |########               | Elapsed Time: 0:01:03 ETA:   0:01:47\n",
      " 38% (38 of 100) |########               | Elapsed Time: 0:01:05 ETA:   0:01:45\n",
      " 39% (39 of 100) |########               | Elapsed Time: 0:01:07 ETA:   0:01:44\n",
      " 40% (40 of 100) |#########              | Elapsed Time: 0:01:09 ETA:   0:01:43\n",
      " 41% (41 of 100) |#########              | Elapsed Time: 0:01:10 ETA:   0:01:40\n",
      " 42% (42 of 100) |#########              | Elapsed Time: 0:01:12 ETA:   0:01:38\n",
      " 43% (43 of 100) |#########              | Elapsed Time: 0:01:14 ETA:   0:01:37\n",
      " 44% (44 of 100) |##########             | Elapsed Time: 0:01:15 ETA:   0:01:35\n",
      " 45% (45 of 100) |##########             | Elapsed Time: 0:01:17 ETA:   0:01:33\n",
      " 46% (46 of 100) |##########             | Elapsed Time: 0:01:19 ETA:   0:01:32\n",
      " 47% (47 of 100) |##########             | Elapsed Time: 0:01:20 ETA:   0:01:30\n",
      " 48% (48 of 100) |###########            | Elapsed Time: 0:01:22 ETA:   0:01:28\n",
      " 49% (49 of 100) |###########            | Elapsed Time: 0:01:24 ETA:   0:01:27\n",
      " 50% (50 of 100) |###########            | Elapsed Time: 0:01:26 ETA:   0:01:26\n",
      " 51% (51 of 100) |###########            | Elapsed Time: 0:01:27 ETA:   0:01:23\n",
      " 52% (52 of 100) |###########            | Elapsed Time: 0:01:29 ETA:   0:01:22\n",
      " 53% (53 of 100) |############           | Elapsed Time: 0:01:31 ETA:   0:01:20\n",
      " 54% (54 of 100) |############           | Elapsed Time: 0:01:32 ETA:   0:01:18\n",
      " 55% (55 of 100) |############           | Elapsed Time: 0:01:34 ETA:   0:01:16\n",
      " 56% (56 of 100) |############           | Elapsed Time: 0:01:36 ETA:   0:01:15\n",
      " 57% (57 of 100) |#############          | Elapsed Time: 0:01:38 ETA:   0:01:13\n",
      " 58% (58 of 100) |#############          | Elapsed Time: 0:01:39 ETA:   0:01:12\n",
      " 59% (59 of 100) |#############          | Elapsed Time: 0:01:41 ETA:   0:01:10\n",
      " 60% (60 of 100) |#############          | Elapsed Time: 0:01:43 ETA:   0:01:08\n",
      " 61% (61 of 100) |##############         | Elapsed Time: 0:01:44 ETA:   0:01:06\n",
      " 62% (62 of 100) |##############         | Elapsed Time: 0:01:46 ETA:   0:01:05\n",
      " 63% (63 of 100) |##############         | Elapsed Time: 0:01:48 ETA:   0:01:03\n",
      " 64% (64 of 100) |##############         | Elapsed Time: 0:01:50 ETA:   0:01:01\n",
      " 65% (65 of 100) |##############         | Elapsed Time: 0:01:51 ETA:   0:00:59\n",
      " 66% (66 of 100) |###############        | Elapsed Time: 0:01:53 ETA:   0:00:58\n",
      " 67% (67 of 100) |###############        | Elapsed Time: 0:01:55 ETA:   0:00:56\n",
      " 68% (68 of 100) |###############        | Elapsed Time: 0:01:56 ETA:   0:00:55\n",
      " 69% (69 of 100) |###############        | Elapsed Time: 0:01:58 ETA:   0:00:53\n",
      " 70% (70 of 100) |################       | Elapsed Time: 0:02:00 ETA:   0:00:51\n",
      " 71% (71 of 100) |################       | Elapsed Time: 0:02:02 ETA:   0:00:49\n",
      " 72% (72 of 100) |################       | Elapsed Time: 0:02:03 ETA:   0:00:47\n",
      " 73% (73 of 100) |################       | Elapsed Time: 0:02:05 ETA:   0:00:46\n",
      " 74% (74 of 100) |#################      | Elapsed Time: 0:02:07 ETA:   0:00:44\n",
      " 75% (75 of 100) |#################      | Elapsed Time: 0:02:08 ETA:   0:00:42\n",
      " 76% (76 of 100) |#################      | Elapsed Time: 0:02:10 ETA:   0:00:40\n",
      " 77% (77 of 100) |#################      | Elapsed Time: 0:02:12 ETA:   0:00:39\n",
      " 78% (78 of 100) |#################      | Elapsed Time: 0:02:14 ETA:   0:00:37\n",
      " 79% (79 of 100) |##################     | Elapsed Time: 0:02:15 ETA:   0:00:35\n",
      " 80% (80 of 100) |##################     | Elapsed Time: 0:02:17 ETA:   0:00:34\n",
      " 81% (81 of 100) |##################     | Elapsed Time: 0:02:19 ETA:   0:00:32\n",
      " 82% (82 of 100) |##################     | Elapsed Time: 0:02:20 ETA:   0:00:30\n",
      " 83% (83 of 100) |###################    | Elapsed Time: 0:02:22 ETA:   0:00:29\n",
      " 84% (84 of 100) |###################    | Elapsed Time: 0:02:24 ETA:   0:00:27\n",
      " 85% (85 of 100) |###################    | Elapsed Time: 0:02:26 ETA:   0:00:25\n",
      " 86% (86 of 100) |###################    | Elapsed Time: 0:02:27 ETA:   0:00:23\n",
      " 87% (87 of 100) |####################   | Elapsed Time: 0:02:29 ETA:   0:00:22\n",
      " 88% (88 of 100) |####################   | Elapsed Time: 0:02:31 ETA:   0:00:20\n",
      " 89% (89 of 100) |####################   | Elapsed Time: 0:02:32 ETA:   0:00:18\n",
      " 90% (90 of 100) |####################   | Elapsed Time: 0:02:34 ETA:   0:00:17\n",
      " 91% (91 of 100) |####################   | Elapsed Time: 0:02:36 ETA:   0:00:15\n",
      " 92% (92 of 100) |#####################  | Elapsed Time: 0:02:37 ETA:   0:00:13\n",
      " 93% (93 of 100) |#####################  | Elapsed Time: 0:02:39 ETA:   0:00:12\n",
      " 94% (94 of 100) |#####################  | Elapsed Time: 0:02:41 ETA:   0:00:10\n",
      " 95% (95 of 100) |#####################  | Elapsed Time: 0:02:43 ETA:   0:00:08\n",
      " 96% (96 of 100) |###################### | Elapsed Time: 0:02:44 ETA:   0:00:06\n",
      " 97% (97 of 100) |###################### | Elapsed Time: 0:02:46 ETA:   0:00:05\n",
      " 98% (98 of 100) |###################### | Elapsed Time: 0:02:48 ETA:   0:00:03\n",
      " 99% (99 of 100) |###################### | Elapsed Time: 0:02:49 ETA:   0:00:01\n",
      "100% (100 of 100) |######################| Elapsed Time: 0:02:51 Time:  0:02:51\n"
     ]
    }
   ],
   "source": [
    "l = []\n",
    "for i in progressbar.progressbar(range(100)):\n",
    "    l.append([])\n",
    "    for k in range(50, 150):\n",
    "        l[i].append(np.linalg.matrix_rank(GF2.Random((100, k))))"
   ]
  },
  {
   "cell_type": "code",
   "execution_count": 38,
   "metadata": {},
   "outputs": [
    {
     "data": {
      "text/plain": [
       "array([ 50.  ,  51.  ,  52.  ,  53.  ,  54.  ,  55.  ,  56.  ,  57.  ,\n",
       "        58.  ,  59.  ,  60.  ,  61.  ,  62.  ,  63.  ,  64.  ,  65.  ,\n",
       "        66.  ,  67.  ,  68.  ,  69.  ,  70.  ,  71.  ,  72.  ,  73.  ,\n",
       "        74.  ,  75.  ,  76.  ,  77.  ,  78.  ,  79.  ,  80.  ,  81.  ,\n",
       "        82.  ,  83.  ,  84.  ,  85.  ,  86.  ,  87.  ,  88.  ,  89.  ,\n",
       "        90.  ,  91.  ,  91.98,  93.  ,  93.98,  94.97,  95.94,  96.89,\n",
       "        97.67,  98.62,  99.23,  99.53,  99.76,  99.9 ,  99.96,  99.97,\n",
       "        99.97,  99.98, 100.  , 100.  , 100.  , 100.  , 100.  , 100.  ,\n",
       "       100.  , 100.  , 100.  , 100.  , 100.  , 100.  , 100.  , 100.  ,\n",
       "       100.  , 100.  , 100.  , 100.  , 100.  , 100.  , 100.  , 100.  ,\n",
       "       100.  , 100.  , 100.  , 100.  , 100.  , 100.  , 100.  , 100.  ,\n",
       "       100.  , 100.  , 100.  , 100.  , 100.  , 100.  , 100.  , 100.  ,\n",
       "       100.  , 100.  , 100.  , 100.  ])"
      ]
     },
     "execution_count": 38,
     "metadata": {},
     "output_type": "execute_result"
    }
   ],
   "source": [
    "np.average(l, axis=0)"
   ]
  },
  {
   "cell_type": "code",
   "execution_count": 44,
   "metadata": {},
   "outputs": [],
   "source": [
    "def pr_fullrank(rows, column):\n",
    "    return np.prod(1. - 2.**(np.arange(1, columns) - 1 - rows))"
   ]
  },
  {
   "cell_type": "code",
   "execution_count": 48,
   "metadata": {},
   "outputs": [
    {
     "data": {
      "text/plain": [
       "0.999999998137355"
      ]
     },
     "execution_count": 48,
     "metadata": {},
     "output_type": "execute_result"
    }
   ],
   "source": [
    "pr_fullrank(128, 100)"
   ]
  },
  {
   "cell_type": "code",
   "execution_count": 51,
   "metadata": {},
   "outputs": [],
   "source": [
    "import time\n",
    "import matplotlib.pyplot as plt"
   ]
  },
  {
   "cell_type": "code",
   "execution_count": 62,
   "metadata": {},
   "outputs": [
    {
     "name": "stderr",
     "output_type": "stream",
     "text": [
      "  0% (0 of 198) |                        | Elapsed Time: 0:00:00 ETA:  --:--:--\n",
      "  5% (11 of 198) |#                      | Elapsed Time: 0:00:00 ETA:  00:00:00\n",
      "  8% (16 of 198) |#                      | Elapsed Time: 0:00:00 ETA:   0:00:01\n",
      " 10% (21 of 198) |##                     | Elapsed Time: 0:00:00 ETA:   0:00:02\n",
      " 11% (23 of 198) |##                     | Elapsed Time: 0:00:00 ETA:   0:00:02\n",
      " 13% (26 of 198) |###                    | Elapsed Time: 0:00:00 ETA:   0:00:02\n",
      " 14% (28 of 198) |###                    | Elapsed Time: 0:00:00 ETA:   0:00:02\n",
      " 15% (31 of 198) |###                    | Elapsed Time: 0:00:00 ETA:   0:00:03\n",
      " 16% (33 of 198) |###                    | Elapsed Time: 0:00:00 ETA:   0:00:03\n",
      " 18% (36 of 198) |####                   | Elapsed Time: 0:00:00 ETA:   0:00:03\n",
      " 19% (38 of 198) |####                   | Elapsed Time: 0:00:00 ETA:   0:00:03\n",
      " 20% (40 of 198) |####                   | Elapsed Time: 0:00:01 ETA:   0:00:03\n",
      " 20% (41 of 198) |####                   | Elapsed Time: 0:00:01 ETA:   0:00:03\n",
      " 21% (43 of 198) |####                   | Elapsed Time: 0:00:01 ETA:   0:00:04\n",
      " 22% (45 of 198) |#####                  | Elapsed Time: 0:00:01 ETA:   0:00:04\n",
      " 23% (46 of 198) |#####                  | Elapsed Time: 0:00:01 ETA:   0:00:04\n",
      " 24% (48 of 198) |#####                  | Elapsed Time: 0:00:01 ETA:   0:00:04\n",
      " 25% (50 of 198) |#####                  | Elapsed Time: 0:00:01 ETA:   0:00:05\n",
      " 25% (51 of 198) |#####                  | Elapsed Time: 0:00:01 ETA:   0:00:05\n",
      " 26% (53 of 198) |######                 | Elapsed Time: 0:00:01 ETA:   0:00:05\n",
      " 27% (55 of 198) |######                 | Elapsed Time: 0:00:02 ETA:   0:00:07\n",
      " 28% (56 of 198) |######                 | Elapsed Time: 0:00:02 ETA:   0:00:07\n",
      " 28% (57 of 198) |######                 | Elapsed Time: 0:00:02 ETA:   0:00:08\n",
      " 29% (58 of 198) |######                 | Elapsed Time: 0:00:02 ETA:   0:00:09\n",
      " 29% (59 of 198) |######                 | Elapsed Time: 0:00:02 ETA:   0:00:09\n",
      " 30% (60 of 198) |######                 | Elapsed Time: 0:00:02 ETA:   0:00:09\n",
      " 30% (61 of 198) |#######                | Elapsed Time: 0:00:02 ETA:   0:00:10\n",
      " 31% (62 of 198) |#######                | Elapsed Time: 0:00:02 ETA:   0:00:11\n",
      " 31% (63 of 198) |#######                | Elapsed Time: 0:00:03 ETA:   0:00:11\n",
      " 32% (64 of 198) |#######                | Elapsed Time: 0:00:03 ETA:   0:00:12\n",
      " 32% (65 of 198) |#######                | Elapsed Time: 0:00:03 ETA:   0:00:12\n",
      " 33% (66 of 198) |#######                | Elapsed Time: 0:00:03 ETA:   0:00:13\n",
      " 33% (67 of 198) |#######                | Elapsed Time: 0:00:03 ETA:   0:00:13\n",
      " 34% (68 of 198) |#######                | Elapsed Time: 0:00:03 ETA:   0:00:14\n",
      " 34% (69 of 198) |########               | Elapsed Time: 0:00:03 ETA:   0:00:14\n",
      " 35% (70 of 198) |########               | Elapsed Time: 0:00:03 ETA:   0:00:15\n",
      " 35% (71 of 198) |########               | Elapsed Time: 0:00:04 ETA:   0:00:15\n",
      " 36% (72 of 198) |########               | Elapsed Time: 0:00:04 ETA:   0:00:16\n",
      " 36% (73 of 198) |########               | Elapsed Time: 0:00:04 ETA:   0:00:16\n",
      " 37% (74 of 198) |########               | Elapsed Time: 0:00:04 ETA:   0:00:17\n",
      " 37% (75 of 198) |########               | Elapsed Time: 0:00:04 ETA:   0:00:17\n",
      " 38% (76 of 198) |########               | Elapsed Time: 0:00:05 ETA:   0:00:18\n",
      " 38% (77 of 198) |########               | Elapsed Time: 0:00:05 ETA:   0:00:18\n",
      " 39% (78 of 198) |#########              | Elapsed Time: 0:00:05 ETA:   0:00:19\n",
      " 39% (79 of 198) |#########              | Elapsed Time: 0:00:05 ETA:   0:00:19\n",
      " 40% (80 of 198) |#########              | Elapsed Time: 0:00:05 ETA:   0:00:20\n",
      " 40% (81 of 198) |#########              | Elapsed Time: 0:00:05 ETA:   0:00:20\n",
      " 41% (82 of 198) |#########              | Elapsed Time: 0:00:06 ETA:   0:00:21\n",
      " 41% (83 of 198) |#########              | Elapsed Time: 0:00:06 ETA:   0:00:21\n",
      " 42% (84 of 198) |#########              | Elapsed Time: 0:00:06 ETA:   0:00:22\n",
      " 42% (85 of 198) |#########              | Elapsed Time: 0:00:06 ETA:   0:00:22\n",
      " 43% (86 of 198) |#########              | Elapsed Time: 0:00:07 ETA:   0:00:22\n",
      " 43% (87 of 198) |##########             | Elapsed Time: 0:00:07 ETA:   0:00:23\n",
      " 44% (88 of 198) |##########             | Elapsed Time: 0:00:07 ETA:   0:00:23\n",
      " 44% (89 of 198) |##########             | Elapsed Time: 0:00:07 ETA:   0:00:23\n",
      " 45% (90 of 198) |##########             | Elapsed Time: 0:00:08 ETA:   0:00:24\n",
      " 45% (91 of 198) |##########             | Elapsed Time: 0:00:08 ETA:   0:00:24\n",
      " 46% (92 of 198) |##########             | Elapsed Time: 0:00:08 ETA:   0:00:25\n",
      " 46% (93 of 198) |##########             | Elapsed Time: 0:00:08 ETA:   0:00:25\n",
      " 47% (94 of 198) |##########             | Elapsed Time: 0:00:09 ETA:   0:00:26\n",
      " 47% (95 of 198) |###########            | Elapsed Time: 0:00:09 ETA:   0:00:26\n",
      " 48% (96 of 198) |###########            | Elapsed Time: 0:00:09 ETA:   0:00:27\n",
      " 48% (97 of 198) |###########            | Elapsed Time: 0:00:09 ETA:   0:00:27\n",
      " 49% (98 of 198) |###########            | Elapsed Time: 0:00:10 ETA:   0:00:28\n",
      " 50% (99 of 198) |###########            | Elapsed Time: 0:00:10 ETA:   0:00:28\n",
      " 50% (100 of 198) |###########           | Elapsed Time: 0:00:10 ETA:   0:00:28\n",
      " 51% (101 of 198) |###########           | Elapsed Time: 0:00:11 ETA:   0:00:28\n",
      " 51% (102 of 198) |###########           | Elapsed Time: 0:00:11 ETA:   0:00:29\n",
      " 52% (103 of 198) |###########           | Elapsed Time: 0:00:11 ETA:   0:00:29\n",
      " 52% (104 of 198) |###########           | Elapsed Time: 0:00:12 ETA:   0:00:29\n",
      " 53% (105 of 198) |###########           | Elapsed Time: 0:00:12 ETA:   0:00:30\n",
      " 53% (106 of 198) |###########           | Elapsed Time: 0:00:12 ETA:   0:00:30\n",
      " 54% (107 of 198) |###########           | Elapsed Time: 0:00:13 ETA:   0:00:31\n",
      " 54% (108 of 198) |############          | Elapsed Time: 0:00:13 ETA:   0:00:31\n",
      " 55% (109 of 198) |############          | Elapsed Time: 0:00:14 ETA:   0:00:32\n",
      " 55% (110 of 198) |############          | Elapsed Time: 0:00:14 ETA:   0:00:32\n",
      " 56% (111 of 198) |############          | Elapsed Time: 0:00:14 ETA:   0:00:33\n",
      " 56% (112 of 198) |############          | Elapsed Time: 0:00:15 ETA:   0:00:34\n",
      " 57% (113 of 198) |############          | Elapsed Time: 0:00:15 ETA:   0:00:34\n",
      " 57% (114 of 198) |############          | Elapsed Time: 0:00:16 ETA:   0:00:34\n",
      " 58% (115 of 198) |############          | Elapsed Time: 0:00:16 ETA:   0:00:35\n",
      " 58% (116 of 198) |############          | Elapsed Time: 0:00:16 ETA:   0:00:35\n",
      " 59% (117 of 198) |#############         | Elapsed Time: 0:00:17 ETA:   0:00:35\n",
      " 59% (118 of 198) |#############         | Elapsed Time: 0:00:17 ETA:   0:00:35\n",
      " 60% (119 of 198) |#############         | Elapsed Time: 0:00:18 ETA:   0:00:35\n",
      " 60% (120 of 198) |#############         | Elapsed Time: 0:00:18 ETA:   0:00:35\n",
      " 61% (121 of 198) |#############         | Elapsed Time: 0:00:19 ETA:   0:00:35\n",
      " 61% (122 of 198) |#############         | Elapsed Time: 0:00:19 ETA:   0:00:36\n",
      " 62% (123 of 198) |#############         | Elapsed Time: 0:00:20 ETA:   0:00:37\n",
      " 62% (124 of 198) |#############         | Elapsed Time: 0:00:20 ETA:   0:00:38\n",
      " 63% (125 of 198) |#############         | Elapsed Time: 0:00:21 ETA:   0:00:39\n",
      " 63% (126 of 198) |##############        | Elapsed Time: 0:00:22 ETA:   0:00:39\n",
      " 64% (127 of 198) |##############        | Elapsed Time: 0:00:22 ETA:   0:00:39\n",
      " 64% (128 of 198) |##############        | Elapsed Time: 0:00:23 ETA:   0:00:39\n",
      " 65% (129 of 198) |##############        | Elapsed Time: 0:00:23 ETA:   0:00:40\n",
      " 65% (130 of 198) |##############        | Elapsed Time: 0:00:24 ETA:   0:00:40\n",
      " 66% (131 of 198) |##############        | Elapsed Time: 0:00:24 ETA:   0:00:40\n",
      " 66% (132 of 198) |##############        | Elapsed Time: 0:00:25 ETA:   0:00:40\n",
      " 67% (133 of 198) |##############        | Elapsed Time: 0:00:26 ETA:   0:00:40\n",
      " 67% (134 of 198) |##############        | Elapsed Time: 0:00:26 ETA:   0:00:40\n",
      " 68% (135 of 198) |##############        | Elapsed Time: 0:00:27 ETA:   0:00:41\n",
      " 68% (136 of 198) |###############       | Elapsed Time: 0:00:28 ETA:   0:00:41\n",
      " 69% (137 of 198) |###############       | Elapsed Time: 0:00:29 ETA:   0:00:42\n",
      " 69% (138 of 198) |###############       | Elapsed Time: 0:00:29 ETA:   0:00:44\n",
      " 70% (139 of 198) |###############       | Elapsed Time: 0:00:30 ETA:   0:00:45\n",
      " 70% (140 of 198) |###############       | Elapsed Time: 0:00:31 ETA:   0:00:45\n",
      " 71% (141 of 198) |###############       | Elapsed Time: 0:00:32 ETA:   0:00:44\n",
      " 71% (142 of 198) |###############       | Elapsed Time: 0:00:33 ETA:   0:00:45\n",
      " 72% (143 of 198) |###############       | Elapsed Time: 0:00:33 ETA:   0:00:46\n",
      " 72% (144 of 198) |################      | Elapsed Time: 0:00:35 ETA:   0:00:56\n",
      " 73% (145 of 198) |################      | Elapsed Time: 0:00:36 ETA:   0:01:02\n",
      " 73% (146 of 198) |################      | Elapsed Time: 0:00:37 ETA:   0:01:02\n",
      " 74% (147 of 198) |################      | Elapsed Time: 0:00:38 ETA:   0:01:02\n",
      " 74% (148 of 198) |################      | Elapsed Time: 0:00:39 ETA:   0:01:01\n",
      " 75% (149 of 198) |################      | Elapsed Time: 0:00:41 ETA:   0:01:01\n",
      " 75% (150 of 198) |################      | Elapsed Time: 0:00:42 ETA:   0:01:02\n",
      " 76% (151 of 198) |################      | Elapsed Time: 0:00:43 ETA:   0:01:02\n",
      " 76% (152 of 198) |################      | Elapsed Time: 0:00:45 ETA:   0:01:01\n",
      " 77% (153 of 198) |#################     | Elapsed Time: 0:00:46 ETA:   0:01:00\n",
      " 77% (154 of 198) |#################     | Elapsed Time: 0:00:48 ETA:   0:01:01\n",
      " 78% (155 of 198) |#################     | Elapsed Time: 0:00:49 ETA:   0:01:01\n",
      " 78% (156 of 198) |#################     | Elapsed Time: 0:00:50 ETA:   0:01:00\n",
      " 79% (157 of 198) |#################     | Elapsed Time: 0:00:52 ETA:   0:00:59\n",
      " 79% (158 of 198) |#################     | Elapsed Time: 0:00:53 ETA:   0:00:59\n",
      " 80% (159 of 198) |#################     | Elapsed Time: 0:00:55 ETA:   0:00:58\n",
      " 80% (160 of 198) |#################     | Elapsed Time: 0:00:56 ETA:   0:00:57\n",
      " 81% (161 of 198) |#################     | Elapsed Time: 0:00:58 ETA:   0:00:57\n",
      " 81% (162 of 198) |##################    | Elapsed Time: 0:01:00 ETA:   0:00:57\n",
      " 82% (163 of 198) |##################    | Elapsed Time: 0:01:01 ETA:   0:00:56\n",
      " 82% (164 of 198) |##################    | Elapsed Time: 0:01:03 ETA:   0:00:56\n",
      " 83% (165 of 198) |##################    | Elapsed Time: 0:01:05 ETA:   0:00:55\n",
      " 83% (166 of 198) |##################    | Elapsed Time: 0:01:06 ETA:   0:00:54\n",
      " 84% (167 of 198) |##################    | Elapsed Time: 0:01:08 ETA:   0:00:54\n",
      " 84% (168 of 198) |##################    | Elapsed Time: 0:01:10 ETA:   0:00:53\n",
      " 85% (169 of 198) |##################    | Elapsed Time: 0:01:12 ETA:   0:00:51\n",
      " 85% (170 of 198) |##################    | Elapsed Time: 0:01:13 ETA:   0:00:50\n",
      " 86% (171 of 198) |###################   | Elapsed Time: 0:01:15 ETA:   0:00:50\n",
      " 86% (172 of 198) |###################   | Elapsed Time: 0:01:17 ETA:   0:00:48\n",
      " 87% (173 of 198) |###################   | Elapsed Time: 0:01:19 ETA:   0:00:48\n",
      " 87% (174 of 198) |###################   | Elapsed Time: 0:01:21 ETA:   0:00:47\n",
      " 88% (175 of 198) |###################   | Elapsed Time: 0:01:23 ETA:   0:00:46\n",
      " 88% (176 of 198) |###################   | Elapsed Time: 0:01:25 ETA:   0:00:46\n",
      " 89% (177 of 198) |###################   | Elapsed Time: 0:01:27 ETA:   0:00:43\n",
      " 89% (178 of 198) |###################   | Elapsed Time: 0:01:29 ETA:   0:00:41\n",
      " 90% (179 of 198) |###################   | Elapsed Time: 0:01:32 ETA:   0:00:40\n",
      " 90% (180 of 198) |####################  | Elapsed Time: 0:01:34 ETA:   0:00:39\n",
      " 91% (181 of 198) |####################  | Elapsed Time: 0:01:36 ETA:   0:00:36\n",
      " 91% (182 of 198) |####################  | Elapsed Time: 0:01:38 ETA:   0:00:35\n",
      " 92% (183 of 198) |####################  | Elapsed Time: 0:01:41 ETA:   0:00:34\n",
      " 92% (184 of 198) |####################  | Elapsed Time: 0:01:43 ETA:   0:00:32\n",
      " 93% (185 of 198) |####################  | Elapsed Time: 0:01:45 ETA:   0:00:30\n",
      " 93% (186 of 198) |####################  | Elapsed Time: 0:01:48 ETA:   0:00:28\n",
      " 94% (187 of 198) |####################  | Elapsed Time: 0:01:50 ETA:   0:00:26\n",
      " 94% (188 of 198) |####################  | Elapsed Time: 0:01:53 ETA:   0:00:25\n",
      " 95% (189 of 198) |##################### | Elapsed Time: 0:01:55 ETA:   0:00:23\n",
      " 95% (190 of 198) |##################### | Elapsed Time: 0:01:58 ETA:   0:00:20\n",
      " 96% (191 of 198) |##################### | Elapsed Time: 0:02:00 ETA:   0:00:17\n",
      " 96% (192 of 198) |##################### | Elapsed Time: 0:02:03 ETA:   0:00:15\n",
      " 97% (193 of 198) |##################### | Elapsed Time: 0:02:06 ETA:   0:00:13\n",
      " 97% (194 of 198) |##################### | Elapsed Time: 0:02:08 ETA:   0:00:11\n",
      " 98% (195 of 198) |##################### | Elapsed Time: 0:02:11 ETA:   0:00:08\n",
      " 98% (196 of 198) |##################### | Elapsed Time: 0:02:14 ETA:   0:00:05\n",
      " 99% (197 of 198) |##################### | Elapsed Time: 0:02:17 ETA:   0:00:02\n",
      "100% (198 of 198) |######################| Elapsed Time: 0:02:20 Time:  0:02:20\n"
     ]
    }
   ],
   "source": [
    "times = []\n",
    "for i in progressbar.progressbar(range(10, 1000, 5)):\n",
    "    start_time = time.time()\n",
    "    _ = GF2.Random((i, i)).null_space()\n",
    "    times.append(time.time() - start_time)"
   ]
  },
  {
   "cell_type": "code",
   "execution_count": 67,
   "metadata": {},
   "outputs": [
    {
     "data": {
      "text/plain": [
       "[<matplotlib.lines.Line2D at 0x28ec4e77e50>]"
      ]
     },
     "execution_count": 67,
     "metadata": {},
     "output_type": "execute_result"
    },
    {
     "data": {
      "image/png": "[encoded data removed]",
      "text/plain": [
       "<Figure size 432x288 with 1 Axes>"
      ]
     },
     "metadata": {
      "needs_background": "light"
     },
     "output_type": "display_data"
    }
   ],
   "source": [
    "plt.plot(range(10, 1000, 5)[:140], times[:140], \"bx\")\n"
   ]
  },
  {
   "cell_type": "code",
   "execution_count": null,
   "metadata": {},
   "outputs": [],
   "source": []
  }
 ],
 "metadata": {
  "interpreter": {
   "hash": "1f62561572b8522993a39f993bcbb6949f6a5c6c8c86bce57261d4c7a1d90089"
  },
  "kernelspec": {
   "display_name": "Python 3.10.0 64-bit",
   "language": "python",
   "name": "python3"
  },
  "language_info": {
   "codemirror_mode": {
    "name": "ipython",
    "version": 3
   },
   "file_extension": ".py",
   "mimetype": "text/x-python",
   "name": "python",
   "nbconvert_exporter": "python",
   "pygments_lexer": "ipython3",
   "version": "3.10.0"
  },
  "orig_nbformat": 4
 },
 "nbformat": 4,
 "nbformat_minor": 2
}
